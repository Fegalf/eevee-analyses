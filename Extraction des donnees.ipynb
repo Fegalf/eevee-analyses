{
 "cells": [
  {
   "cell_type": "code",
   "execution_count": 1,
   "metadata": {
    "ExecuteTime": {
     "end_time": "2018-07-19T13:19:25.485427",
     "start_time": "2018-07-19T13:19:19.615475"
    }
   },
   "outputs": [],
   "source": [
    "import json\n",
    "import pandas as pd\n",
    "import datetime\n",
    "\n",
    "%matplotlib inline"
   ]
  },
  {
   "cell_type": "code",
   "execution_count": 2,
   "metadata": {},
   "outputs": [],
   "source": [
    "with open('donnees.json', encoding='utf-8') as mon_fichier:\n",
    "    dictionnaire_des_participants = json.load(mon_fichier)"
   ]
  },
  {
   "cell_type": "markdown",
   "metadata": {
    "collapsed": true
   },
   "source": [
    "# For python analysis"
   ]
  },
  {
   "cell_type": "code",
   "execution_count": 3,
   "metadata": {
    "ExecuteTime": {
     "end_time": "2018-07-19T13:19:25.496397",
     "start_time": "2018-07-19T13:19:25.487385"
    }
   },
   "outputs": [],
   "source": [
    "def temps_de_reponse(se):\n",
    "    values = se.get_time.values[0][:-3]\n",
    "    date1 = datetime.datetime(*values)\n",
    "    values = se.post_time.values[0][:-3]\n",
    "    date2 = datetime.datetime(*values)\n",
    "\n",
    "    delta = (date2 - date1)\n",
    "    return delta.seconds"
   ]
  },
  {
   "cell_type": "code",
   "execution_count": 4,
   "metadata": {
    "ExecuteTime": {
     "end_time": "2018-07-19T13:19:26.042865",
     "start_time": "2018-07-19T13:19:26.033889"
    }
   },
   "outputs": [],
   "source": [
    "def trial_to_bloc(se):\n",
    "    if se.trial.values[0] <= 16:\n",
    "        return 1\n",
    "    if se.trial.values[0] <= 32:\n",
    "        return 2\n",
    "    if se.trial.values[0] <= 48:\n",
    "        return 3\n",
    "    if se.trial.values[0] <= 64:\n",
    "        return 4\n",
    "    raise Exception('Invalid trial')"
   ]
  },
  {
   "cell_type": "code",
   "execution_count": 5,
   "metadata": {
    "ExecuteTime": {
     "end_time": "2018-07-19T13:20:03.200698",
     "start_time": "2018-07-19T13:19:47.713538"
    }
   },
   "outputs": [],
   "source": [
    "dict_columns = ['BaseDeDonnees', 'CommentairesGeneraux', 'Consentement_form', 'CriteresInclusion', 'Demographique', 'ProfilJeuxVideo', 'SocioDemo',]\n",
    "\n",
    "dfs = []\n",
    "\n",
    "for par, data in enumerate(dictionnaire_des_participants.values()):\n",
    "    dictionary = {key: data[key] for key in data.keys() if key in dict_columns}\n",
    "    reform = {(outerKey, innerKey): values for outerKey, innerDict in dictionary.items() for innerKey, values in innerDict.items()}\n",
    "    se = pd.Series(reform)\n",
    "    \n",
    "    for key, val in data['data'].items():\n",
    "        val.update({'avatar': data['order'][int(key)-1]})\n",
    "        \n",
    "    df = pd.DataFrame.from_dict(data['data'], orient='index')\n",
    "    df = df.reset_index().rename(columns={'index':'trial'})\n",
    "    df = df.astype({'trial':int, 'avatar':int})\n",
    "    df.columns = pd.MultiIndex.from_product([df.columns, ['']])\n",
    "\n",
    "    for rows in se.items():\n",
    "        if isinstance(rows[1], list):\n",
    "            df[rows[0]] = ';'.join(rows[1])\n",
    "        else:\n",
    "            df[rows[0]] = rows[1]\n",
    "    \n",
    "    df['participant'] = par\n",
    "    dfs.append(df)\n",
    "    \n",
    "df_all = pd.concat(dfs)\n",
    "df_all['temps_de_reponse'] = df_all.apply(temps_de_reponse, axis=1)\n",
    "df_all['male'] = df_all.apply(lambda se: True if se.Demographique.sexe =='Masculin' else False, axis=1)\n",
    "df_all['bloc'] = df_all.apply(trial_to_bloc, axis=1)\n",
    "df_all['age_trial'] = df_all.age > -1\n",
    "df_all['realism_trial'] = df_all.realisme > -1\n",
    "df_all['age_participant'] = (pd.datetime.now() - pd.to_datetime(df_all.Demographique.datenaissance)).apply(lambda x: x.days//365)\n",
    "\n",
    "# remove invalide participant\n",
    "invalid_participants = list(df_all.groupby('participant').realisme.count()[(df_all.groupby('participant').realisme.count() != 32)].index)\n",
    "df_all = df_all[~df_all.participant.isin(invalid_participants)]\n",
    "\n",
    "\n",
    "df_all.to_pickle('eevee-data.pkl')"
   ]
  },
  {
   "cell_type": "code",
   "execution_count": 6,
   "metadata": {},
   "outputs": [],
   "source": [
    "lines = []\n",
    "for participant in df_all.participant.unique():\n",
    "    for avatar in df_all.avatar.unique():\n",
    "        df_par = df_all[(df_all.participant == participant) & (df_all.avatar == avatar)]\n",
    "        line = df_par.iloc[0].drop(['age', 'genre', 'realisme', 'temps_de_reponse', 'bloc', 'age_trial', 'realism_trial', 'get_time', 'post_time', 'repeat', 'groupe_ethnique', 'groupe_ethnique_autre'], level=0)\n",
    "        \n",
    "        line['age1'] = df_par[df_par.bloc==1].age.values[0]\n",
    "        line['age2'] = df_par[df_par.bloc==3].age.values[0]\n",
    "        \n",
    "        line['genre1'] = df_par[df_par.bloc==1].genre.values[0]\n",
    "        line['genre2'] = df_par[df_par.bloc==3].genre.values[0]\n",
    "        \n",
    "        line['groupe_ethnique1'] = df_par[df_par.bloc==1].groupe_ethnique.values[0]\n",
    "        line['groupe_ethnique2'] = df_par[df_par.bloc==3].groupe_ethnique.values[0]\n",
    "        \n",
    "        line['groupe_ethnique_autre1'] = df_par[df_par.bloc==1].groupe_ethnique_autre.values[0]\n",
    "        line['groupe_ethnique_autre2'] = df_par[df_par.bloc==3].groupe_ethnique_autre.values[0]\n",
    "        \n",
    "        line['realisme1'] = df_par[df_par.bloc==2].realisme.values[0]\n",
    "        line['realisme2'] = df_par[df_par.bloc==4].realisme.values[0]\n",
    "        \n",
    "        lines.append(line)\n",
    "        \n",
    "df_spss = pd.DataFrame(lines)\n",
    "df_spss = df_spss.sort_values(['participant', 'avatar']).drop('trial', axis=1, level=1)\n",
    "df_spss.columns = list(map(str.strip, map(' '.join, list(df_spss.columns))))\n",
    "df_spss = df_spss.drop('trial', axis=1)\n"
   ]
  },
  {
   "cell_type": "code",
   "execution_count": 7,
   "metadata": {},
   "outputs": [],
   "source": [
    "writer = pd.ExcelWriter('Donnees_Spss.xlsx')\n",
    "df_spss.to_excel(writer,'Sheet1')\n",
    "writer.save()"
   ]
  },
  {
   "cell_type": "code",
   "execution_count": null,
   "metadata": {},
   "outputs": [],
   "source": []
  }
 ],
 "metadata": {
  "anaconda-cloud": {},
  "hide_input": false,
  "kernelspec": {
   "display_name": "Python 3",
   "language": "python",
   "name": "python3"
  },
  "language_info": {
   "codemirror_mode": {
    "name": "ipython",
    "version": 3
   },
   "file_extension": ".py",
   "mimetype": "text/x-python",
   "name": "python",
   "nbconvert_exporter": "python",
   "pygments_lexer": "ipython3",
   "version": "3.6.2"
  }
 },
 "nbformat": 4,
 "nbformat_minor": 2
}
